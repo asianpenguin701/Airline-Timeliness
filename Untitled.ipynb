{
 "cells": [
  {
   "cell_type": "code",
   "execution_count": 3,
   "id": "b296f647-be97-4ae0-b08b-6491a74e924a",
   "metadata": {},
   "outputs": [],
   "source": [
    "# Dependencies and Setup\n",
    "import os\n",
    "import csv\n",
    "import pandas as pd\n",
    "from pathlib import Path\n"
   ]
  },
  {
   "cell_type": "code",
   "execution_count": null,
   "id": "c5c1472f-49fb-4a6e-bcce-2d0f641f0628",
   "metadata": {},
   "outputs": [],
   "source": [
    "#path for csv file\n",
    "\n",
    "airline_delay_df = "
   ]
  },
  {
   "cell_type": "code",
   "execution_count": null,
   "id": "55507078-651c-4134-883d-bd0cc6853c43",
   "metadata": {},
   "outputs": [],
   "source": []
  }
 ],
 "metadata": {
  "kernelspec": {
   "display_name": "Python 3 (ipykernel)",
   "language": "python",
   "name": "python3"
  },
  "language_info": {
   "codemirror_mode": {
    "name": "ipython",
    "version": 3
   },
   "file_extension": ".py",
   "mimetype": "text/x-python",
   "name": "python",
   "nbconvert_exporter": "python",
   "pygments_lexer": "ipython3",
   "version": "3.10.14"
  }
 },
 "nbformat": 4,
 "nbformat_minor": 5
}
